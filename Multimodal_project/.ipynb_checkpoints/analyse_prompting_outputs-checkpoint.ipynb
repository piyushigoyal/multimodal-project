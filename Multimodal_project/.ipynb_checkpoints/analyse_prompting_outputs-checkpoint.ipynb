{
 "cells": [
  {
   "cell_type": "code",
   "execution_count": 2,
   "id": "4a6c5571-faf6-451e-a5af-45d62f03ff3e",
   "metadata": {},
   "outputs": [
    {
     "name": "stdout",
     "output_type": "stream",
     "text": [
      "Requirement already satisfied: jsonlines in /Users/user/opt/anaconda3/lib/python3.9/site-packages (3.1.0)\n",
      "Requirement already satisfied: attrs>=19.2.0 in /Users/user/opt/anaconda3/lib/python3.9/site-packages (from jsonlines) (21.4.0)\n"
     ]
    }
   ],
   "source": [
    "!pip install jsonlines"
   ]
  },
  {
   "cell_type": "code",
   "execution_count": 1,
   "id": "initial_id",
   "metadata": {
    "ExecuteTime": {
     "end_time": "2025-05-14T09:06:21.084982Z",
     "start_time": "2025-05-14T09:06:21.062258Z"
    }
   },
   "outputs": [
    {
     "ename": "ModuleNotFoundError",
     "evalue": "No module named 'jsonlines'",
     "output_type": "error",
     "traceback": [
      "\u001b[0;31m---------------------------------------------------------------------------\u001b[0m",
      "\u001b[0;31mModuleNotFoundError\u001b[0m                       Traceback (most recent call last)",
      "Cell \u001b[0;32mIn[1], line 2\u001b[0m\n\u001b[1;32m      1\u001b[0m \u001b[38;5;28;01mimport\u001b[39;00m\u001b[38;5;250m \u001b[39m\u001b[38;5;21;01mos\u001b[39;00m\n\u001b[0;32m----> 2\u001b[0m \u001b[38;5;28;01mimport\u001b[39;00m\u001b[38;5;250m \u001b[39m\u001b[38;5;21;01mjsonlines\u001b[39;00m\n\u001b[1;32m      3\u001b[0m \u001b[38;5;28;01mfrom\u001b[39;00m\u001b[38;5;250m \u001b[39m\u001b[38;5;21;01mPIL\u001b[39;00m\u001b[38;5;250m \u001b[39m\u001b[38;5;28;01mimport\u001b[39;00m Image\n\u001b[1;32m      4\u001b[0m \u001b[38;5;28;01mfrom\u001b[39;00m\u001b[38;5;250m \u001b[39m\u001b[38;5;21;01mIPython\u001b[39;00m\u001b[38;5;21;01m.\u001b[39;00m\u001b[38;5;21;01mdisplay\u001b[39;00m\u001b[38;5;250m \u001b[39m\u001b[38;5;28;01mimport\u001b[39;00m display, Markdown\n",
      "\u001b[0;31mModuleNotFoundError\u001b[0m: No module named 'jsonlines'"
     ]
    }
   ],
   "source": [
    "import os\n",
    "import jsonlines\n",
    "from PIL import Image\n",
    "from IPython.display import display, Markdown\n",
    "\n",
    "# Helper to load JSONL\n",
    "def load_jsonl(filepath):\n",
    "    with jsonlines.open(filepath) as reader:\n",
    "        return list(reader)\n",
    "\n",
    "# Helper to get filename from path\n",
    "def get_filename(path):\n",
    "    return os.path.basename(path)\n"
   ]
  },
  {
   "cell_type": "code",
   "execution_count": null,
   "id": "84e06eb6c9134962",
   "metadata": {},
   "outputs": [],
   "source": [
    "# Load the master_output.jsonl file\n",
    "master_path = \"/Users/user/Library/CloudStorage/OneDrive-King'sCollegeLondon/PycharmProjects/multimodal-project/Multimodal_project/mathvista_data/testmini/master_output.jsonl\"\n",
    "master_data = load_jsonl(master_path)\n",
    "master_filename = get_filename(master_path)\n",
    "\n",
    "# Select the first item (pid = \"1\")\n",
    "entry = master_data[0]\n",
    "pid = entry[\"pid\"]\n",
    "\n",
    "# Display query\n",
    "display(Markdown(f\"### Query:\\n{entry['query']}\"))\n",
    "\n",
    "# Display image\n",
    "image_path = f\"/Users/user/Library/CloudStorage/OneDrive-King'sCollegeLondon/PycharmProjects/multimodal-project/Multimodal_project/{entry['image_path']}\"\n",
    "display(Image.open(image_path))\n",
    "\n",
    "# Display ground truth\n",
    "display(Markdown(f\"**Ground Truth Answer:** {entry['ground_truth_answer']}\"))\n",
    "\n",
    "# Display generated answer from master_output\n",
    "display(Markdown(f\"**Generated Answer (from `{master_filename}`):**\\n{entry['generated_answer']}\"))\n",
    "\n",
    "# Display extracted answer from master_output\n",
    "display(Markdown(f\"**Extracted Answer (from `{master_filename}`):** {entry['extracted_answer']}\"))"
   ]
  },
  {
   "cell_type": "code",
   "execution_count": null,
   "id": "816b6e566715a31",
   "metadata": {},
   "outputs": [],
   "source": [
    "# Load interactive_outputs.jsonl\n",
    "interactive_path = \"/Users/user/Library/CloudStorage/OneDrive-King'sCollegeLondon/PycharmProjects/multimodal-project/Multimodal_project/mathvista_data/testmini/interactive_outputs.jsonl\"\n",
    "interactive_data = load_jsonl(interactive_path)\n",
    "interactive_filename = get_filename(interactive_path)\n",
    "\n",
    "# Find matching pid\n",
    "interactive_entry = next((item for item in interactive_data if item[\"pid\"] == pid), None)\n",
    "\n",
    "if interactive_entry:\n",
    "    display(Markdown(f\"**Generated Answer (from `{interactive_filename}`):**\\n{interactive_entry['generated_answer']}\"))\n",
    "    display(Markdown(f\"**Revised Extracted Answer (from `{interactive_filename}`):** {interactive_entry['revised_extracted_answer']}\"))\n",
    "else:\n",
    "    display(Markdown(f\"**No entry with pid={pid} found in `{interactive_filename}`.**\"))\n"
   ]
  },
  {
   "cell_type": "code",
   "execution_count": null,
   "id": "af42609203a80219",
   "metadata": {},
   "outputs": [],
   "source": [
    "# Load prompt_outputs.jsonl\n",
    "prompt_path = \"/Users/user/Library/CloudStorage/OneDrive-King'sCollegeLondon/PycharmProjects/multimodal-project/Multimodal_project/mathvista_data/testmini/prompt_outputs.jsonl\"\n",
    "prompt_data = load_jsonl(prompt_path)\n",
    "prompt_filename = get_filename(prompt_path)\n",
    "\n",
    "# Find matching pid\n",
    "prompt_entry = next((item for item in prompt_data if item[\"pid\"] == pid), None)\n",
    "\n",
    "if prompt_entry:\n",
    "    display(Markdown(f\"**Generated Answer (from `{prompt_filename}`):**\\n{prompt_entry['generated_answer']}\"))\n",
    "    display(Markdown(f\"**Extracted Answer (from `{prompt_filename}`):** {prompt_entry['extracted_answer']}\"))\n",
    "    display(Markdown(f\"**Revised Extracted Answer (from `{prompt_filename}`):** {prompt_entry['revised_extracted_answer']}\"))\n",
    "else:\n",
    "    display(Markdown(f\"**No entry with pid={pid} found in `{prompt_filename}`.**\"))\n"
   ]
  }
 ],
 "metadata": {
  "kernelspec": {
   "display_name": "Python 3 (ipykernel)",
   "language": "python",
   "name": "python3"
  },
  "language_info": {
   "codemirror_mode": {
    "name": "ipython",
    "version": 3
   },
   "file_extension": ".py",
   "mimetype": "text/x-python",
   "name": "python",
   "nbconvert_exporter": "python",
   "pygments_lexer": "ipython3",
   "version": "3.10.4"
  }
 },
 "nbformat": 4,
 "nbformat_minor": 5
}
